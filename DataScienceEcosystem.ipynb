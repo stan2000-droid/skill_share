{
 "cells": [
  {
   "cell_type": "markdown",
   "id": "f190959e",
   "metadata": {},
   "source": [
    "# Data Science Tools and Ecosystem # "
   ]
  },
  {
   "cell_type": "markdown",
   "id": "3469fa26",
   "metadata": {},
   "source": [
    "In this notebook, Data Science Tools and Ecosystem are summarized."
   ]
  },
  {
   "cell_type": "markdown",
   "id": "e6192b1f",
   "metadata": {},
   "source": [
    "Some of the popular languages that Data Scientists use are:\n",
    "1. Python\n",
    "1. R\n",
    "1. Julia"
   ]
  },
  {
   "cell_type": "markdown",
   "id": "436b9de6",
   "metadata": {},
   "source": [
    "Some of the commonly used libraries used by Data Scientists include:\n",
    "1. ggplot\n",
    "2. tensorflow\n",
    "3. scikt-learn"
   ]
  },
  {
   "cell_type": "markdown",
   "id": "7511ba45",
   "metadata": {},
   "source": [
    "| Data Science Tools|\n",
    "|-------------------|\n",
    "|jupyter notebook   |\n",
    "|Watson Studio      |\n",
    "|Rstudio            |"
   ]
  },
  {
   "cell_type": "markdown",
   "id": "20e2a207",
   "metadata": {},
   "source": [
    "### Below are a few examples of evaluating arithmetic expressions in Python ####"
   ]
  },
  {
   "cell_type": "code",
   "execution_count": 1,
   "id": "cfaff72d",
   "metadata": {},
   "outputs": [
    {
     "data": {
      "text/plain": [
       "17"
      ]
     },
     "execution_count": 1,
     "metadata": {},
     "output_type": "execute_result"
    }
   ],
   "source": [
    "(3*4)+5\n",
    "# This a simple arithmetic expression to mutiply then add integers"
   ]
  },
  {
   "cell_type": "code",
   "execution_count": 3,
   "id": "5b18d512",
   "metadata": {},
   "outputs": [
    {
     "data": {
      "text/plain": [
       "3.3333333333333335"
      ]
     },
     "execution_count": 3,
     "metadata": {},
     "output_type": "execute_result"
    }
   ],
   "source": [
    "200/60\n",
    "#This will convert 200 minutes to hours by diving by 60"
   ]
  },
  {
   "cell_type": "markdown",
   "id": "e84b6a55",
   "metadata": {},
   "source": [
    "**Objectives:**\n",
    "* List popular languages for Data Science\n",
    "* Evaluating arithmetic expressions in Python \n",
    "* Creating a table using markdowns"
   ]
  },
  {
   "cell_type": "markdown",
   "id": "81112cf3",
   "metadata": {},
   "source": [
    "## Author ##\n",
    "Stanslous"
   ]
  },
  {
   "cell_type": "code",
   "execution_count": null,
   "id": "7843f652",
   "metadata": {},
   "outputs": [],
   "source": []
  },
  {
   "cell_type": "code",
   "execution_count": null,
   "id": "939f5358",
   "metadata": {},
   "outputs": [],
   "source": []
  }
 ],
 "metadata": {
  "kernelspec": {
   "display_name": "Python 3 (ipykernel)",
   "language": "python",
   "name": "python3"
  },
  "language_info": {
   "codemirror_mode": {
    "name": "ipython",
    "version": 3
   },
   "file_extension": ".py",
   "mimetype": "text/x-python",
   "name": "python",
   "nbconvert_exporter": "python",
   "pygments_lexer": "ipython3",
   "version": "3.10.9"
  }
 },
 "nbformat": 4,
 "nbformat_minor": 5
}
